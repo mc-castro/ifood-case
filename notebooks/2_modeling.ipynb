{
 "cells": [
  {
   "cell_type": "markdown",
   "metadata": {
    "application/vnd.databricks.v1+cell": {
     "cellMetadata": {
      "byteLimit": 2048000,
      "rowLimit": 10000
     },
     "inputWidgets": {},
     "nuid": "0d6c2f65-cda6-46df-9cdf-cfb6e6446866",
     "showTitle": false,
     "tableResultSettingsMap": {},
     "title": ""
    }
   },
   "source": [
    "## Imports"
   ]
  },
  {
   "cell_type": "code",
   "execution_count": 0,
   "metadata": {
    "application/vnd.databricks.v1+cell": {
     "cellMetadata": {
      "byteLimit": 2048000,
      "rowLimit": 10000
     },
     "inputWidgets": {},
     "nuid": "65a98d84-4c3e-46c0-91f4-a58a8ba2ea99",
     "showTitle": false,
     "tableResultSettingsMap": {},
     "title": ""
    }
   },
   "outputs": [],
   "source": [
    "!pip install imbalanced-learn"
   ]
  },
  {
   "cell_type": "code",
   "execution_count": 0,
   "metadata": {
    "application/vnd.databricks.v1+cell": {
     "cellMetadata": {
      "byteLimit": 2048000,
      "rowLimit": 10000
     },
     "inputWidgets": {},
     "nuid": "f2dd7469-553d-48b5-b29c-98c83dec5b65",
     "showTitle": false,
     "tableResultSettingsMap": {},
     "title": ""
    }
   },
   "outputs": [],
   "source": [
    "!pip install boruta"
   ]
  },
  {
   "cell_type": "code",
   "execution_count": 0,
   "metadata": {
    "application/vnd.databricks.v1+cell": {
     "cellMetadata": {
      "byteLimit": 2048000,
      "rowLimit": 10000
     },
     "inputWidgets": {},
     "nuid": "4bde793d-ab77-4c28-b3cf-45faa8feae97",
     "showTitle": false,
     "tableResultSettingsMap": {},
     "title": ""
    }
   },
   "outputs": [],
   "source": [
    "!pip install sklearn-genetic"
   ]
  },
  {
   "cell_type": "code",
   "execution_count": 0,
   "metadata": {
    "application/vnd.databricks.v1+cell": {
     "cellMetadata": {
      "byteLimit": 2048000,
      "rowLimit": 10000
     },
     "inputWidgets": {},
     "nuid": "146ad23a-184b-4f6a-805c-23120db10364",
     "showTitle": false,
     "tableResultSettingsMap": {},
     "title": ""
    }
   },
   "outputs": [],
   "source": [
    "!pip install hyperopt"
   ]
  },
  {
   "cell_type": "code",
   "execution_count": 0,
   "metadata": {
    "application/vnd.databricks.v1+cell": {
     "cellMetadata": {
      "byteLimit": 2048000,
      "rowLimit": 10000
     },
     "inputWidgets": {},
     "nuid": "9b31f629-3a95-4758-b599-2ebcdd24fe70",
     "showTitle": false,
     "tableResultSettingsMap": {},
     "title": ""
    }
   },
   "outputs": [],
   "source": [
    "!pip install xgboost"
   ]
  },
  {
   "cell_type": "code",
   "execution_count": 0,
   "metadata": {
    "application/vnd.databricks.v1+cell": {
     "cellMetadata": {
      "byteLimit": 2048000,
      "rowLimit": 10000
     },
     "inputWidgets": {},
     "nuid": "1688154f-bc72-4fcd-bf1b-47d970dede92",
     "showTitle": false,
     "tableResultSettingsMap": {},
     "title": ""
    }
   },
   "outputs": [],
   "source": [
    "!pip install lightgbm"
   ]
  },
  {
   "cell_type": "code",
   "execution_count": 0,
   "metadata": {
    "application/vnd.databricks.v1+cell": {
     "cellMetadata": {
      "byteLimit": 2048000,
      "rowLimit": 10000
     },
     "inputWidgets": {},
     "nuid": "b9671ad9-6767-4ab5-bd43-1ba89b5337b5",
     "showTitle": false,
     "tableResultSettingsMap": {},
     "title": ""
    },
    "jupyter": {
     "outputs_hidden": true
    }
   },
   "outputs": [],
   "source": [
    "!pip install implicit"
   ]
  },
  {
   "cell_type": "code",
   "execution_count": 0,
   "metadata": {
    "application/vnd.databricks.v1+cell": {
     "cellMetadata": {
      "byteLimit": 2048000,
      "rowLimit": 10000
     },
     "inputWidgets": {},
     "nuid": "a2a60c0d-ce40-454c-a4c0-23a0dba2ca4b",
     "showTitle": false,
     "tableResultSettingsMap": {},
     "title": ""
    }
   },
   "outputs": [],
   "source": [
    "from pyspark import SparkConf\n",
    "from pyspark.sql import SparkSession\n",
    "from pyspark.sql import functions as F\n",
    "from pyspark.sql.types import IntegerType, StringType, DateType, DoubleType\n",
    "\n",
    "import numpy as np\n",
    "import pandas as pd\n",
    "from IPython.display import Image\n",
    "import warnings\n",
    "from sklearn.feature_selection import f_classif, mutual_info_classif, SequentialFeatureSelector, SelectKBest\n",
    "from scipy.stats import chi2_contingency\n",
    "from sklearn.base import BaseEstimator, TransformerMixin, clone\n",
    "from sklearn.pipeline import FeatureUnion\n",
    "from sklearn.compose import ColumnTransformer\n",
    "from sklearn.impute import SimpleImputer, MissingIndicator\n",
    "from sklearn.preprocessing import OneHotEncoder, StandardScaler, LabelEncoder\n",
    "from sklearn.ensemble import RandomForestClassifier\n",
    "from sklearn.linear_model import LogisticRegression\n",
    "from sklearn.metrics import classification_report, recall_score, precision_score, make_scorer, f1_score, accuracy_score\n",
    "from sklearn.model_selection import cross_val_predict, LeaveOneOut, cross_val_score, StratifiedKFold, GridSearchCV\n",
    "from imblearn.pipeline import Pipeline\n",
    "from imblearn.over_sampling import RandomOverSampler, SMOTE\n",
    "from boruta import BorutaPy\n",
    "from genetic_selection import GeneticSelectionCV\n",
    "from hyperopt import fmin, tpe, hp, Trials\n",
    "from hyperopt.pyll.base import scope\n",
    "from hyperopt.pyll.stochastic import sample\n",
    "from functools import partial\n",
    "import xgboost as xgb\n",
    "from lightgbm import LGBMClassifier\n",
    "from scipy.sparse import coo_matrix\n",
    "import implicit\n",
    "from implicit.evaluation import ndcg_at_k"
   ]
  },
  {
   "cell_type": "code",
   "execution_count": 0,
   "metadata": {
    "application/vnd.databricks.v1+cell": {
     "cellMetadata": {
      "byteLimit": 2048000,
      "rowLimit": 10000
     },
     "inputWidgets": {},
     "nuid": "893ac1b6-042a-4237-b914-e6e3c3078537",
     "showTitle": false,
     "tableResultSettingsMap": {},
     "title": ""
    }
   },
   "outputs": [],
   "source": [
    "spark = SparkSession.builder.appName(\"ifood_case\").getOrCreate()"
   ]
  },
  {
   "cell_type": "code",
   "execution_count": 0,
   "metadata": {
    "application/vnd.databricks.v1+cell": {
     "cellMetadata": {
      "byteLimit": 2048000,
      "rowLimit": 10000
     },
     "inputWidgets": {},
     "nuid": "53be5ade-afc3-46b8-b501-89c251571e0b",
     "showTitle": false,
     "tableResultSettingsMap": {},
     "title": ""
    }
   },
   "outputs": [],
   "source": [
    "path_features = 'dbfs:/FileStore/ifood_case/data/processed/df_customers_offers.parquet'"
   ]
  },
  {
   "cell_type": "markdown",
   "metadata": {
    "application/vnd.databricks.v1+cell": {
     "cellMetadata": {
      "byteLimit": 2048000,
      "rowLimit": 10000
     },
     "inputWidgets": {},
     "nuid": "d8560af4-751e-4fe2-8afe-17a15e82951d",
     "showTitle": false,
     "tableResultSettingsMap": {},
     "title": ""
    }
   },
   "source": [
    "## Extract"
   ]
  },
  {
   "cell_type": "code",
   "execution_count": 0,
   "metadata": {
    "application/vnd.databricks.v1+cell": {
     "cellMetadata": {
      "byteLimit": 2048000,
      "rowLimit": 10000
     },
     "inputWidgets": {},
     "nuid": "a0376771-dbbb-4f49-9d8b-597499da7d1e",
     "showTitle": false,
     "tableResultSettingsMap": {},
     "title": ""
    }
   },
   "outputs": [
    {
     "data": {
      "text/html": [
       "<style scoped>\n",
       "  .table-result-container {\n",
       "    max-height: 300px;\n",
       "    overflow: auto;\n",
       "  }\n",
       "  table, th, td {\n",
       "    border: 1px solid black;\n",
       "    border-collapse: collapse;\n",
       "  }\n",
       "  th, td {\n",
       "    padding: 5px;\n",
       "  }\n",
       "  th {\n",
       "    text-align: left;\n",
       "  }\n",
       "</style><div class='table-result-container'><table class='table-result'><thead style='background-color: white'><tr><th>offer_accepted</th><th>count</th></tr></thead><tbody><tr><td>0</td><td>45856</td></tr><tr><td>1</td><td>24000</td></tr></tbody></table></div>"
      ]
     },
     "metadata": {
      "application/vnd.databricks.v1+output": {
       "addedWidgets": {},
       "aggData": [],
       "aggError": "",
       "aggOverflow": false,
       "aggSchema": [],
       "aggSeriesLimitReached": false,
       "aggType": "",
       "arguments": {},
       "columnCustomDisplayInfos": {},
       "data": [
        [
         0,
         45856
        ],
        [
         1,
         24000
        ]
       ],
       "datasetInfos": [],
       "dbfsResultPath": null,
       "isJsonSchema": true,
       "metadata": {},
       "overflow": false,
       "plotOptions": {
        "customPlotOptions": {},
        "displayType": "table",
        "pivotAggregation": null,
        "pivotColumns": null,
        "xColumns": null,
        "yColumns": null
       },
       "removedWidgets": [],
       "schema": [
        {
         "metadata": "{}",
         "name": "offer_accepted",
         "type": "\"integer\""
        },
        {
         "metadata": "{}",
         "name": "count",
         "type": "\"long\""
        }
       ],
       "type": "table"
      }
     },
     "output_type": "display_data"
    }
   ],
   "source": [
    "df_features = spark.read.parquet(path_features)\n",
    "df_features.groupBy('offer_accepted').count().display()"
   ]
  },
  {
   "cell_type": "code",
   "execution_count": 0,
   "metadata": {
    "application/vnd.databricks.v1+cell": {
     "cellMetadata": {
      "byteLimit": 2048000,
      "rowLimit": 10000
     },
     "inputWidgets": {},
     "nuid": "cbbf87b5-1710-4239-8a6f-190a8fe6bfb8",
     "showTitle": false,
     "tableResultSettingsMap": {},
     "title": ""
    }
   },
   "outputs": [],
   "source": [
    "df = df_features.toPandas()"
   ]
  },
  {
   "cell_type": "code",
   "execution_count": 0,
   "metadata": {
    "application/vnd.databricks.v1+cell": {
     "cellMetadata": {
      "byteLimit": 2048000,
      "rowLimit": 10000
     },
     "inputWidgets": {},
     "nuid": "39524af2-20ce-4dcc-8503-cc5718ece248",
     "showTitle": false,
     "tableResultSettingsMap": {},
     "title": ""
    }
   },
   "outputs": [
    {
     "data": {
      "text/html": [
       "<div>\n",
       "<style scoped>\n",
       "    .dataframe tbody tr th:only-of-type {\n",
       "        vertical-align: middle;\n",
       "    }\n",
       "\n",
       "    .dataframe tbody tr th {\n",
       "        vertical-align: top;\n",
       "    }\n",
       "\n",
       "    .dataframe thead th {\n",
       "        text-align: right;\n",
       "    }\n",
       "</style>\n",
       "<table border=\"1\" class=\"dataframe\">\n",
       "  <thead>\n",
       "    <tr style=\"text-align: right;\">\n",
       "      <th></th>\n",
       "      <th>account_id</th>\n",
       "      <th>split</th>\n",
       "      <th>amount</th>\n",
       "      <th>offer_id</th>\n",
       "      <th>min_value</th>\n",
       "      <th>duration</th>\n",
       "      <th>discount_value</th>\n",
       "      <th>avg_ticket</th>\n",
       "      <th>variability_ticket</th>\n",
       "      <th>offer_acceptance_rate</th>\n",
       "      <th>...</th>\n",
       "      <th>is_female</th>\n",
       "      <th>is_other</th>\n",
       "      <th>credit_card_limit</th>\n",
       "      <th>offer_accepted</th>\n",
       "      <th>is_bogo_offer</th>\n",
       "      <th>is_discount_offer</th>\n",
       "      <th>is_informational_offer</th>\n",
       "      <th>has_web_notification</th>\n",
       "      <th>has_mobile_notification</th>\n",
       "      <th>has_social_notification</th>\n",
       "    </tr>\n",
       "  </thead>\n",
       "  <tbody>\n",
       "    <tr>\n",
       "      <th>0</th>\n",
       "      <td>2c4f8a7e0933415ca5ceda66946c1255</td>\n",
       "      <td>train</td>\n",
       "      <td>0.0</td>\n",
       "      <td>5a8bc65990b245e5a138643cd4eb9837</td>\n",
       "      <td>0</td>\n",
       "      <td>3.0</td>\n",
       "      <td>0</td>\n",
       "      <td>19.543333</td>\n",
       "      <td>1.944154</td>\n",
       "      <td>0.250000</td>\n",
       "      <td>...</td>\n",
       "      <td>0</td>\n",
       "      <td>0</td>\n",
       "      <td>79000.0</td>\n",
       "      <td>0</td>\n",
       "      <td>0</td>\n",
       "      <td>0</td>\n",
       "      <td>1</td>\n",
       "      <td>0</td>\n",
       "      <td>1</td>\n",
       "      <td>1</td>\n",
       "    </tr>\n",
       "    <tr>\n",
       "      <th>1</th>\n",
       "      <td>27586221a0a5482b960ac41506d2c316</td>\n",
       "      <td>train</td>\n",
       "      <td>0.0</td>\n",
       "      <td>4d5c57ea9a6940dd891ad53e9dbe8da0</td>\n",
       "      <td>10</td>\n",
       "      <td>5.0</td>\n",
       "      <td>10</td>\n",
       "      <td>27.118000</td>\n",
       "      <td>8.582239</td>\n",
       "      <td>0.285714</td>\n",
       "      <td>...</td>\n",
       "      <td>0</td>\n",
       "      <td>0</td>\n",
       "      <td>114000.0</td>\n",
       "      <td>0</td>\n",
       "      <td>1</td>\n",
       "      <td>0</td>\n",
       "      <td>0</td>\n",
       "      <td>1</td>\n",
       "      <td>1</td>\n",
       "      <td>1</td>\n",
       "    </tr>\n",
       "    <tr>\n",
       "      <th>2</th>\n",
       "      <td>36399e0a45554cafabaab01cdb80c480</td>\n",
       "      <td>validation</td>\n",
       "      <td>0.0</td>\n",
       "      <td>0b1e1539f2cc45b7b9fa7c272da2e1d7</td>\n",
       "      <td>20</td>\n",
       "      <td>10.0</td>\n",
       "      <td>5</td>\n",
       "      <td>28.390000</td>\n",
       "      <td>2.941751</td>\n",
       "      <td>0.333333</td>\n",
       "      <td>...</td>\n",
       "      <td>1</td>\n",
       "      <td>0</td>\n",
       "      <td>84000.0</td>\n",
       "      <td>0</td>\n",
       "      <td>0</td>\n",
       "      <td>1</td>\n",
       "      <td>0</td>\n",
       "      <td>1</td>\n",
       "      <td>0</td>\n",
       "      <td>0</td>\n",
       "    </tr>\n",
       "    <tr>\n",
       "      <th>3</th>\n",
       "      <td>aeea18cf2e8d455c98453c546292a9f6</td>\n",
       "      <td>train</td>\n",
       "      <td>0.0</td>\n",
       "      <td>4d5c57ea9a6940dd891ad53e9dbe8da0</td>\n",
       "      <td>10</td>\n",
       "      <td>5.0</td>\n",
       "      <td>10</td>\n",
       "      <td>22.278571</td>\n",
       "      <td>6.869938</td>\n",
       "      <td>0.428571</td>\n",
       "      <td>...</td>\n",
       "      <td>1</td>\n",
       "      <td>0</td>\n",
       "      <td>73000.0</td>\n",
       "      <td>0</td>\n",
       "      <td>1</td>\n",
       "      <td>0</td>\n",
       "      <td>0</td>\n",
       "      <td>1</td>\n",
       "      <td>1</td>\n",
       "      <td>1</td>\n",
       "    </tr>\n",
       "    <tr>\n",
       "      <th>4</th>\n",
       "      <td>5fc96150a4994e3c982e723d06d35e8b</td>\n",
       "      <td>train</td>\n",
       "      <td>0.0</td>\n",
       "      <td>5a8bc65990b245e5a138643cd4eb9837</td>\n",
       "      <td>0</td>\n",
       "      <td>3.0</td>\n",
       "      <td>0</td>\n",
       "      <td>24.080000</td>\n",
       "      <td>4.299209</td>\n",
       "      <td>0.285714</td>\n",
       "      <td>...</td>\n",
       "      <td>1</td>\n",
       "      <td>0</td>\n",
       "      <td>81000.0</td>\n",
       "      <td>0</td>\n",
       "      <td>0</td>\n",
       "      <td>0</td>\n",
       "      <td>1</td>\n",
       "      <td>0</td>\n",
       "      <td>1</td>\n",
       "      <td>1</td>\n",
       "    </tr>\n",
       "  </tbody>\n",
       "</table>\n",
       "<p>5 rows × 26 columns</p>\n",
       "</div>"
      ]
     },
     "metadata": {
      "application/vnd.databricks.v1+output": {
       "addedWidgets": {},
       "arguments": {},
       "data": "<div>\n<style scoped>\n    .dataframe tbody tr th:only-of-type {\n        vertical-align: middle;\n    }\n\n    .dataframe tbody tr th {\n        vertical-align: top;\n    }\n\n    .dataframe thead th {\n        text-align: right;\n    }\n</style>\n<table border=\"1\" class=\"dataframe\">\n  <thead>\n    <tr style=\"text-align: right;\">\n      <th></th>\n      <th>account_id</th>\n      <th>split</th>\n      <th>amount</th>\n      <th>offer_id</th>\n      <th>min_value</th>\n      <th>duration</th>\n      <th>discount_value</th>\n      <th>avg_ticket</th>\n      <th>variability_ticket</th>\n      <th>offer_acceptance_rate</th>\n      <th>...</th>\n      <th>is_female</th>\n      <th>is_other</th>\n      <th>credit_card_limit</th>\n      <th>offer_accepted</th>\n      <th>is_bogo_offer</th>\n      <th>is_discount_offer</th>\n      <th>is_informational_offer</th>\n      <th>has_web_notification</th>\n      <th>has_mobile_notification</th>\n      <th>has_social_notification</th>\n    </tr>\n  </thead>\n  <tbody>\n    <tr>\n      <th>0</th>\n      <td>2c4f8a7e0933415ca5ceda66946c1255</td>\n      <td>train</td>\n      <td>0.0</td>\n      <td>5a8bc65990b245e5a138643cd4eb9837</td>\n      <td>0</td>\n      <td>3.0</td>\n      <td>0</td>\n      <td>19.543333</td>\n      <td>1.944154</td>\n      <td>0.250000</td>\n      <td>...</td>\n      <td>0</td>\n      <td>0</td>\n      <td>79000.0</td>\n      <td>0</td>\n      <td>0</td>\n      <td>0</td>\n      <td>1</td>\n      <td>0</td>\n      <td>1</td>\n      <td>1</td>\n    </tr>\n    <tr>\n      <th>1</th>\n      <td>27586221a0a5482b960ac41506d2c316</td>\n      <td>train</td>\n      <td>0.0</td>\n      <td>4d5c57ea9a6940dd891ad53e9dbe8da0</td>\n      <td>10</td>\n      <td>5.0</td>\n      <td>10</td>\n      <td>27.118000</td>\n      <td>8.582239</td>\n      <td>0.285714</td>\n      <td>...</td>\n      <td>0</td>\n      <td>0</td>\n      <td>114000.0</td>\n      <td>0</td>\n      <td>1</td>\n      <td>0</td>\n      <td>0</td>\n      <td>1</td>\n      <td>1</td>\n      <td>1</td>\n    </tr>\n    <tr>\n      <th>2</th>\n      <td>36399e0a45554cafabaab01cdb80c480</td>\n      <td>validation</td>\n      <td>0.0</td>\n      <td>0b1e1539f2cc45b7b9fa7c272da2e1d7</td>\n      <td>20</td>\n      <td>10.0</td>\n      <td>5</td>\n      <td>28.390000</td>\n      <td>2.941751</td>\n      <td>0.333333</td>\n      <td>...</td>\n      <td>1</td>\n      <td>0</td>\n      <td>84000.0</td>\n      <td>0</td>\n      <td>0</td>\n      <td>1</td>\n      <td>0</td>\n      <td>1</td>\n      <td>0</td>\n      <td>0</td>\n    </tr>\n    <tr>\n      <th>3</th>\n      <td>aeea18cf2e8d455c98453c546292a9f6</td>\n      <td>train</td>\n      <td>0.0</td>\n      <td>4d5c57ea9a6940dd891ad53e9dbe8da0</td>\n      <td>10</td>\n      <td>5.0</td>\n      <td>10</td>\n      <td>22.278571</td>\n      <td>6.869938</td>\n      <td>0.428571</td>\n      <td>...</td>\n      <td>1</td>\n      <td>0</td>\n      <td>73000.0</td>\n      <td>0</td>\n      <td>1</td>\n      <td>0</td>\n      <td>0</td>\n      <td>1</td>\n      <td>1</td>\n      <td>1</td>\n    </tr>\n    <tr>\n      <th>4</th>\n      <td>5fc96150a4994e3c982e723d06d35e8b</td>\n      <td>train</td>\n      <td>0.0</td>\n      <td>5a8bc65990b245e5a138643cd4eb9837</td>\n      <td>0</td>\n      <td>3.0</td>\n      <td>0</td>\n      <td>24.080000</td>\n      <td>4.299209</td>\n      <td>0.285714</td>\n      <td>...</td>\n      <td>1</td>\n      <td>0</td>\n      <td>81000.0</td>\n      <td>0</td>\n      <td>0</td>\n      <td>0</td>\n      <td>1</td>\n      <td>0</td>\n      <td>1</td>\n      <td>1</td>\n    </tr>\n  </tbody>\n</table>\n<p>5 rows × 26 columns</p>\n</div>",
       "datasetInfos": [],
       "metadata": {},
       "removedWidgets": [],
       "textData": null,
       "type": "htmlSandbox"
      }
     },
     "output_type": "display_data"
    }
   ],
   "source": [
    "df.head()"
   ]
  },
  {
   "cell_type": "markdown",
   "metadata": {
    "application/vnd.databricks.v1+cell": {
     "cellMetadata": {
      "byteLimit": 2048000,
      "rowLimit": 10000
     },
     "inputWidgets": {},
     "nuid": "7eda52de-e438-46e3-a500-f757015f0bf0",
     "showTitle": false,
     "tableResultSettingsMap": {},
     "title": ""
    }
   },
   "source": [
    "## ML Tests"
   ]
  },
  {
   "cell_type": "markdown",
   "metadata": {
    "application/vnd.databricks.v1+cell": {
     "cellMetadata": {},
     "inputWidgets": {},
     "nuid": "1078a2a9-9afb-4bd0-87c9-036194221edf",
     "showTitle": false,
     "tableResultSettingsMap": {},
     "title": ""
    }
   },
   "source": [
    "### Feature Transformers"
   ]
  },
  {
   "cell_type": "code",
   "execution_count": 0,
   "metadata": {
    "application/vnd.databricks.v1+cell": {
     "cellMetadata": {
      "byteLimit": 2048000,
      "rowLimit": 10000
     },
     "inputWidgets": {},
     "nuid": "62d16b08-a6a9-456d-8094-c1723d987ffa",
     "showTitle": false,
     "tableResultSettingsMap": {},
     "title": ""
    }
   },
   "outputs": [],
   "source": [
    "target = 'offer_accepted'\n",
    "key_feats = ['account_id', 'offer_id', 'split', 'amount']\n",
    "feats = df_features_pd.drop([target] + key_feats, axis=1).columns\n",
    "num_feats = [feat for feat in feats if df_features_pd[feat].dtype != 'O']\n",
    "cat_feats = [feat for feat in feats if feat not in num_feats]"
   ]
  },
  {
   "cell_type": "code",
   "execution_count": 0,
   "metadata": {
    "application/vnd.databricks.v1+cell": {
     "cellMetadata": {
      "byteLimit": 2048000,
      "rowLimit": 10000
     },
     "inputWidgets": {},
     "nuid": "ddd87161-4f4d-49be-8aa6-65a1d136d030",
     "showTitle": false,
     "tableResultSettingsMap": {},
     "title": ""
    }
   },
   "outputs": [],
   "source": [
    "num_transformer = FeatureUnion(    \n",
    "    [\n",
    "        ('num_pipe', Pipeline(\n",
    "            [\n",
    "                ('norm', StandardScaler()),\n",
    "                ('nan_input', SimpleImputer())\n",
    "            ]\n",
    "        )),\n",
    "        ('nan_flag', MissingIndicator(error_on_new=False))\n",
    "    ]\n",
    ")\n",
    "feat_transformer = ColumnTransformer(\n",
    "    [\n",
    "        ('num_trans', num_transformer, num_feats),\n",
    "        ('cat_trans', OneHotEncoder(handle_unknown='ignore'), cat_feats)    \n",
    "    ],\n",
    "    remainder='passthrough', sparse_threshold=0\n",
    ")"
   ]
  },
  {
   "cell_type": "code",
   "execution_count": 0,
   "metadata": {
    "application/vnd.databricks.v1+cell": {
     "cellMetadata": {
      "byteLimit": 2048000,
      "rowLimit": 10000
     },
     "inputWidgets": {},
     "nuid": "cdc8fb06-4e6e-422d-a03c-5dbad518b14d",
     "showTitle": false,
     "tableResultSettingsMap": {},
     "title": ""
    }
   },
   "outputs": [],
   "source": [
    "df_train = df[df['split'] == 'train']\n",
    "X_train = df_train[feats]\n",
    "y_train = df_train[\"offer_accepted\"]\n",
    "\n",
    "df_test = df[df['split'] != 'train']\n",
    "X_test = df_test[feats]\n",
    "y_test = df_test[\"offer_accepted\"]\n",
    "\n",
    "df_validation = df[df['split'] == 'validation']\n",
    "X_validation = df_validation[feats]\n",
    "y_validation = df_validation[\"offer_accepted\"]\n"
   ]
  },
  {
   "cell_type": "markdown",
   "metadata": {
    "application/vnd.databricks.v1+cell": {
     "cellMetadata": {},
     "inputWidgets": {},
     "nuid": "9038b2bb-f63d-47d1-a06c-af7350037d32",
     "showTitle": false,
     "tableResultSettingsMap": {},
     "title": ""
    }
   },
   "source": [
    "### Models"
   ]
  },
  {
   "cell_type": "code",
   "execution_count": 0,
   "metadata": {
    "application/vnd.databricks.v1+cell": {
     "cellMetadata": {
      "byteLimit": 2048000,
      "rowLimit": 10000
     },
     "inputWidgets": {},
     "nuid": "3047e707-a375-451b-959a-42c23b21db17",
     "showTitle": false,
     "tableResultSettingsMap": {},
     "title": ""
    }
   },
   "outputs": [],
   "source": [
    "def optimize_hyperparameters(opt_space, pipe, X, y, max_evals=100):\n",
    "\n",
    "    def obj(x):\n",
    "        \n",
    "        model = clone(pipe).set_params(**x)\n",
    "        preds = cross_val_predict(model, X, y, cv=3, n_jobs=-1)\n",
    "\n",
    "        return -f1_score(y, preds, average='macro')\n",
    "\n",
    "\n",
    "    best_hypers = fmin(obj, space=opt_space, algo=tpe.suggest, \n",
    "                    max_evals=max_evals, return_argmin=False)\n",
    "\n",
    "    return best_hypers\n",
    "\n",
    "def optimize_als_hyperparameters(opt_space, train_matrix, val_matrix, max_evals=50):\n",
    "    def obj(params):\n",
    "        model = implicit.als.AlternatingLeastSquares(\n",
    "            factors=params['factors'],\n",
    "            regularization=params['regularization'],\n",
    "            iterations=params['iterations'],\n",
    "            random_state=42\n",
    "        )\n",
    "        model.fit((train_matrix * params['alpha']).astype('double'))\n",
    "\n",
    "        score = ndcg_at_k(model, train_matrix, val_matrix, K=10)\n",
    "        return -score \n",
    "\n",
    "    best_hypers = fmin(obj, space=opt_space, algo=tpe.suggest, max_evals=max_evals, return_argmin=False)\n",
    "    return best_hypers"
   ]
  },
  {
   "cell_type": "markdown",
   "metadata": {
    "application/vnd.databricks.v1+cell": {
     "cellMetadata": {},
     "inputWidgets": {},
     "nuid": "359b9fa5-fdb5-48d6-955c-675eddafb310",
     "showTitle": false,
     "tableResultSettingsMap": {},
     "title": ""
    }
   },
   "source": [
    "### Algorithms Comparison"
   ]
  },
  {
   "cell_type": "code",
   "execution_count": 0,
   "metadata": {
    "application/vnd.databricks.v1+cell": {
     "cellMetadata": {
      "byteLimit": 2048000,
      "rowLimit": 10000
     },
     "inputWidgets": {},
     "nuid": "9435a9b1-49fa-44c9-a2ff-f65f2d1f9860",
     "showTitle": true,
     "tableResultSettingsMap": {},
     "title": "Logistic Regression"
    }
   },
   "outputs": [
    {
     "name": "stdout",
     "output_type": "stream",
     "text": [
      "\r  0%|          | 0/100 [00:00<?, ?trial/s, best loss=?]\r  1%|          | 1/100 [00:09<15:53,  9.63s/trial, best loss: -0.5437228672807652]\r  2%|▏         | 2/100 [00:15<12:32,  7.68s/trial, best loss: -0.5437228672807652]\r  3%|▎         | 3/100 [00:22<11:48,  7.30s/trial, best loss: -0.5437228672807652]\r  4%|▍         | 4/100 [00:28<10:55,  6.83s/trial, best loss: -0.5437228672807652]\r  5%|▌         | 5/100 [00:35<10:32,  6.66s/trial, best loss: -0.5437228672807652]\r  6%|▌         | 6/100 [00:41<10:10,  6.50s/trial, best loss: -0.5437228672807652]\r  7%|▋         | 7/100 [00:47<09:55,  6.41s/trial, best loss: -0.5437228672807652]\r  8%|▊         | 8/100 [00:54<09:50,  6.42s/trial, best loss: -0.5437228672807652]\r  9%|▉         | 9/100 [01:00<09:37,  6.35s/trial, best loss: -0.5438692218254706]\r 10%|█         | 10/100 [01:06<09:21,  6.23s/trial, best loss: -0.5441364396906996]\r 11%|█         | 11/100 [01:12<09:15,  6.24s/trial, best loss: -0.5441364396906996]\r 12%|█▏        | 12/100 [01:18<09:07,  6.22s/trial, best loss: -0.5441364396906996]\r 13%|█▎        | 13/100 [01:25<09:12,  6.35s/trial, best loss: -0.5441364396906996]\r 14%|█▍        | 14/100 [01:31<08:59,  6.27s/trial, best loss: -0.5441364396906996]\r 15%|█▌        | 15/100 [01:37<08:51,  6.25s/trial, best loss: -0.5441364396906996]\r 16%|█▌        | 16/100 [01:44<08:58,  6.41s/trial, best loss: -0.5441364396906996]\r 17%|█▋        | 17/100 [01:50<08:42,  6.30s/trial, best loss: -0.5441364396906996]\r 18%|█▊        | 18/100 [01:56<08:37,  6.31s/trial, best loss: -0.5441364396906996]\r 19%|█▉        | 19/100 [02:02<08:24,  6.23s/trial, best loss: -0.5441364396906996]\r 20%|██        | 20/100 [02:08<08:11,  6.15s/trial, best loss: -0.5441364396906996]\r 21%|██        | 21/100 [02:15<08:09,  6.19s/trial, best loss: -0.5441364396906996]\r 22%|██▏       | 22/100 [02:21<07:58,  6.14s/trial, best loss: -0.5441364396906996]\r 23%|██▎       | 23/100 [02:27<07:52,  6.13s/trial, best loss: -0.5441364396906996]\r 24%|██▍       | 24/100 [02:33<07:40,  6.06s/trial, best loss: -0.5441364396906996]\r 25%|██▌       | 25/100 [02:39<07:49,  6.26s/trial, best loss: -0.5441364396906996]\r 26%|██▌       | 26/100 [02:45<07:37,  6.19s/trial, best loss: -0.5441364396906996]\r 27%|██▋       | 27/100 [02:52<07:30,  6.18s/trial, best loss: -0.5441364396906996]\r 28%|██▊       | 28/100 [02:58<07:26,  6.20s/trial, best loss: -0.5441364396906996]\r 29%|██▉       | 29/100 [03:05<07:33,  6.39s/trial, best loss: -0.5441364396906996]\r 30%|███       | 30/100 [03:11<07:22,  6.32s/trial, best loss: -0.5441364396906996]\r 31%|███       | 31/100 [03:17<07:11,  6.26s/trial, best loss: -0.5441364396906996]\r 32%|███▏      | 32/100 [03:23<07:01,  6.19s/trial, best loss: -0.5441364396906996]\r 33%|███▎      | 33/100 [03:30<07:06,  6.37s/trial, best loss: -0.5441364396906996]\r 34%|███▍      | 34/100 [03:36<06:55,  6.29s/trial, best loss: -0.5441364396906996]\r 35%|███▌      | 35/100 [03:42<06:43,  6.22s/trial, best loss: -0.5441364396906996]\r 36%|███▌      | 36/100 [03:48<06:46,  6.35s/trial, best loss: -0.5441364396906996]\r 37%|███▋      | 37/100 [03:55<06:37,  6.31s/trial, best loss: -0.5441364396906996]\r 38%|███▊      | 38/100 [04:01<06:34,  6.36s/trial, best loss: -0.5441364396906996]\r 39%|███▉      | 39/100 [04:07<06:23,  6.28s/trial, best loss: -0.5441364396906996]\r 40%|████      | 40/100 [04:14<06:15,  6.27s/trial, best loss: -0.5441364396906996]\r 41%|████      | 41/100 [04:20<06:10,  6.28s/trial, best loss: -0.5441364396906996]\r 42%|████▏     | 42/100 [04:26<05:59,  6.19s/trial, best loss: -0.5441364396906996]\r 43%|████▎     | 43/100 [04:33<06:03,  6.37s/trial, best loss: -0.5441364396906996]\r 44%|████▍     | 44/100 [04:39<05:55,  6.34s/trial, best loss: -0.5441364396906996]\r 45%|████▌     | 45/100 [04:45<05:45,  6.28s/trial, best loss: -0.5441364396906996]\r 46%|████▌     | 46/100 [04:51<05:35,  6.21s/trial, best loss: -0.5441364396906996]\r 47%|████▋     | 47/100 [04:57<05:31,  6.26s/trial, best loss: -0.5448537140330508]\r 48%|████▊     | 48/100 [05:04<05:36,  6.48s/trial, best loss: -0.5448537140330508]\r 49%|████▉     | 49/100 [05:10<05:24,  6.36s/trial, best loss: -0.5448537140330508]\r 50%|█████     | 50/100 [05:17<05:17,  6.36s/trial, best loss: -0.5448537140330508]\r 51%|█████     | 51/100 [05:23<05:10,  6.33s/trial, best loss: -0.5448537140330508]\r 52%|█████▏    | 52/100 [05:29<05:00,  6.27s/trial, best loss: -0.5448537140330508]\r 53%|█████▎    | 53/100 [05:35<04:52,  6.23s/trial, best loss: -0.5448537140330508]\r 54%|█████▍    | 54/100 [05:41<04:43,  6.16s/trial, best loss: -0.5448537140330508]\r 55%|█████▌    | 55/100 [05:48<04:36,  6.15s/trial, best loss: -0.5448537140330508]\r 56%|█████▌    | 56/100 [05:54<04:33,  6.21s/trial, best loss: -0.5448537140330508]\r 57%|█████▋    | 57/100 [06:00<04:29,  6.27s/trial, best loss: -0.5448537140330508]\r 58%|█████▊    | 58/100 [06:07<04:24,  6.30s/trial, best loss: -0.5448537140330508]\r 59%|█████▉    | 59/100 [06:13<04:18,  6.31s/trial, best loss: -0.5448537140330508]\r 60%|██████    | 60/100 [06:19<04:09,  6.25s/trial, best loss: -0.5448537140330508]\r 61%|██████    | 61/100 [06:25<04:03,  6.24s/trial, best loss: -0.5448537140330508]\r 62%|██████▏   | 62/100 [06:32<03:57,  6.26s/trial, best loss: -0.5448537140330508]\r 63%|██████▎   | 63/100 [06:38<03:55,  6.36s/trial, best loss: -0.5448537140330508]\r 64%|██████▍   | 64/100 [06:44<03:48,  6.34s/trial, best loss: -0.5448537140330508]\r 65%|██████▌   | 65/100 [06:51<03:39,  6.26s/trial, best loss: -0.5448537140330508]\r 66%|██████▌   | 66/100 [06:57<03:34,  6.30s/trial, best loss: -0.5448537140330508]\r 67%|██████▋   | 67/100 [07:03<03:28,  6.31s/trial, best loss: -0.5448537140330508]\r 68%|██████▊   | 68/100 [07:09<03:20,  6.28s/trial, best loss: -0.5448537140330508]\r 69%|██████▉   | 69/100 [07:16<03:14,  6.29s/trial, best loss: -0.5448537140330508]\r 70%|███████   | 70/100 [07:22<03:06,  6.23s/trial, best loss: -0.5448537140330508]\r 71%|███████   | 71/100 [07:28<03:00,  6.22s/trial, best loss: -0.5448537140330508]\r 72%|███████▏  | 72/100 [07:35<02:56,  6.29s/trial, best loss: -0.5448537140330508]\r 73%|███████▎  | 73/100 [07:41<02:48,  6.25s/trial, best loss: -0.5448537140330508]\r 74%|███████▍  | 74/100 [07:47<02:41,  6.22s/trial, best loss: -0.5448537140330508]\r 75%|███████▌  | 75/100 [07:53<02:34,  6.19s/trial, best loss: -0.5448537140330508]\r 76%|███████▌  | 76/100 [08:00<02:32,  6.34s/trial, best loss: -0.5448537140330508]\r 77%|███████▋  | 77/100 [08:07<02:30,  6.55s/trial, best loss: -0.5448537140330508]\r 78%|███████▊  | 78/100 [08:14<02:27,  6.72s/trial, best loss: -0.5448537140330508]\r 79%|███████▉  | 79/100 [08:21<02:21,  6.75s/trial, best loss: -0.5448537140330508]\r 80%|████████  | 80/100 [08:27<02:15,  6.75s/trial, best loss: -0.5448537140330508]\r 81%|████████  | 81/100 [08:34<02:07,  6.73s/trial, best loss: -0.5448537140330508]\r 82%|████████▏ | 82/100 [08:41<02:01,  6.76s/trial, best loss: -0.5448537140330508]\r 83%|████████▎ | 83/100 [08:48<01:54,  6.75s/trial, best loss: -0.5448537140330508]\r 84%|████████▍ | 84/100 [08:54<01:47,  6.73s/trial, best loss: -0.5448537140330508]\r 85%|████████▌ | 85/100 [09:01<01:40,  6.71s/trial, best loss: -0.5448537140330508]\r 86%|████████▌ | 86/100 [09:08<01:33,  6.67s/trial, best loss: -0.5448537140330508]\r 87%|████████▋ | 87/100 [09:14<01:27,  6.73s/trial, best loss: -0.5448537140330508]\r 88%|████████▊ | 88/100 [09:21<01:20,  6.72s/trial, best loss: -0.5448537140330508]\r 89%|████████▉ | 89/100 [09:28<01:13,  6.68s/trial, best loss: -0.5448537140330508]\r 90%|█████████ | 90/100 [09:34<01:06,  6.70s/trial, best loss: -0.5448537140330508]\r 91%|█████████ | 91/100 [09:41<00:59,  6.66s/trial, best loss: -0.5448537140330508]\r 92%|█████████▏| 92/100 [09:48<00:53,  6.64s/trial, best loss: -0.5448537140330508]\r 93%|█████████▎| 93/100 [09:54<00:46,  6.65s/trial, best loss: -0.5448537140330508]\r 94%|█████████▍| 94/100 [10:01<00:40,  6.68s/trial, best loss: -0.5448537140330508]\r 95%|█████████▌| 95/100 [10:08<00:33,  6.67s/trial, best loss: -0.5448537140330508]\r 96%|█████████▌| 96/100 [10:15<00:27,  6.79s/trial, best loss: -0.5448537140330508]\r 97%|█████████▋| 97/100 [10:21<00:20,  6.76s/trial, best loss: -0.5448537140330508]\r 98%|█████████▊| 98/100 [10:28<00:13,  6.75s/trial, best loss: -0.5448537140330508]\r 99%|█████████▉| 99/100 [10:35<00:06,  6.66s/trial, best loss: -0.5448537140330508]\r100%|██████████| 100/100 [10:41<00:00,  6.65s/trial, best loss: -0.5448537140330508]\r100%|██████████| 100/100 [10:41<00:00,  6.42s/trial, best loss: -0.5448537140330508]\n",
      "              precision    recall  f1-score   support\n",
      "\n",
      "           0       0.64      0.69      0.66      9341\n",
      "           1       0.70      0.65      0.67     10390\n",
      "\n",
      "    accuracy                           0.67     19731\n",
      "   macro avg       0.67      0.67      0.67     19731\n",
      "weighted avg       0.67      0.67      0.67     19731\n",
      "\n"
     ]
    }
   ],
   "source": [
    "lr_pipe = Pipeline(\n",
    "  [\n",
    "      ('feat_trans', feat_transformer),\n",
    "      ('over', SMOTE()),\n",
    "      ('logreg', LogisticRegression(random_state = 0))\n",
    "]\n",
    ")\n",
    "\n",
    "# lr_opt_space = {'logreg__solver': hp.choice('logreg__solver', ['liblinear', 'lbfgs']),\n",
    "#                 'logreg__C': hp.loguniform('logreg__C', np.log(1e-5), np.log(100))}\n",
    "               \n",
    "lr_opt_space = {'logreg__warm_start' : hp.choice('logreg__warm_start', [True, False]),\n",
    "                'logreg__fit_intercept' : hp.choice('logreg__fit_intercept', [True, False]),\n",
    "                'logreg__tol' : hp.uniform('logreg__tol', 0.00001, 0.0001),\n",
    "                'logreg__C' : hp.uniform('logreg__C', 0.05, 3),\n",
    "                'logreg__solver' : hp.choice('logreg__solver', ['newton-cg', 'lbfgs', 'liblinear']),\n",
    "                'logreg__multi_class' : 'auto',\n",
    "                'logreg__class_weight' : 'balanced'}\n",
    "\n",
    "best_hypers = optimize_hyperparameters(lr_opt_space, clone(lr_pipe), X_train, y_train)\n",
    "model = clone(lr_pipe).set_params(**best_hypers).fit(X_train, y_train)\n",
    "y_pred = cross_val_predict(clone(lr_pipe).set_params(**best_hypers), X_test, y_test, cv=3)\n",
    "y_pred_prob = cross_val_predict(clone(lr_pipe).set_params(**best_hypers), X_test, y_test, cv=3, method='predict_proba')\n",
    "\n",
    "print(classification_report(y_test, y_pred))"
   ]
  },
  {
   "cell_type": "code",
   "execution_count": 0,
   "metadata": {
    "application/vnd.databricks.v1+cell": {
     "cellMetadata": {
      "byteLimit": 2048000,
      "rowLimit": 10000
     },
     "inputWidgets": {},
     "nuid": "9241581e-808e-48f3-9bfe-c6be0f5ce5b9",
     "showTitle": false,
     "tableResultSettingsMap": {},
     "title": ""
    }
   },
   "outputs": [
    {
     "name": "stdout",
     "output_type": "stream",
     "text": [
      "Out[56]: array([0, 0, 0, ..., 0, 0, 0])"
     ]
    }
   ],
   "source": [
    "y_pred"
   ]
  },
  {
   "cell_type": "code",
   "execution_count": 0,
   "metadata": {
    "application/vnd.databricks.v1+cell": {
     "cellMetadata": {
      "byteLimit": 2048000,
      "rowLimit": 10000
     },
     "inputWidgets": {},
     "nuid": "01d46376-2532-4786-9eb2-c2c00ba3faca",
     "showTitle": true,
     "tableResultSettingsMap": {},
     "title": "XGBoost"
    }
   },
   "outputs": [
    {
     "name": "stdout",
     "output_type": "stream",
     "text": [
      "\r  0%|          | 0/100 [00:00<?, ?trial/s, best loss=?]\r  1%|          | 1/100 [00:07<12:01,  7.29s/trial, best loss: -0.5803161714969923]\r  2%|▏         | 2/100 [00:14<11:34,  7.09s/trial, best loss: -0.5803161714969923]\r  3%|▎         | 3/100 [00:21<11:20,  7.02s/trial, best loss: -0.5803161714969923]\r  4%|▍         | 4/100 [00:28<11:19,  7.08s/trial, best loss: -0.5803161714969923]\r  5%|▌         | 5/100 [00:35<11:12,  7.08s/trial, best loss: -0.5803161714969923]\r  6%|▌         | 6/100 [00:42<10:58,  7.01s/trial, best loss: -0.5803161714969923]\r  7%|▋         | 7/100 [00:49<10:46,  6.95s/trial, best loss: -0.5803161714969923]\r  8%|▊         | 8/100 [00:56<10:37,  6.92s/trial, best loss: -0.5803161714969923]\r  9%|▉         | 9/100 [01:02<10:31,  6.94s/trial, best loss: -0.5803161714969923]\r 10%|█         | 10/100 [01:09<10:23,  6.93s/trial, best loss: -0.5803161714969923]\r 11%|█         | 11/100 [01:16<10:20,  6.97s/trial, best loss: -0.5803161714969923]\r 12%|█▏        | 12/100 [01:23<10:14,  6.98s/trial, best loss: -0.5803161714969923]\r 13%|█▎        | 13/100 [01:31<10:13,  7.06s/trial, best loss: -0.5803161714969923]\r 14%|█▍        | 14/100 [01:38<10:09,  7.08s/trial, best loss: -0.5803161714969923]\r 15%|█▌        | 15/100 [01:45<10:00,  7.06s/trial, best loss: -0.5803161714969923]\r 16%|█▌        | 16/100 [01:52<09:56,  7.10s/trial, best loss: -0.5803161714969923]\r 17%|█▋        | 17/100 [01:59<09:48,  7.09s/trial, best loss: -0.5803161714969923]\r 18%|█▊        | 18/100 [02:06<09:39,  7.07s/trial, best loss: -0.5803161714969923]\r 19%|█▉        | 19/100 [02:13<09:31,  7.05s/trial, best loss: -0.5803161714969923]\r 20%|██        | 20/100 [02:20<09:22,  7.04s/trial, best loss: -0.5803161714969923]\r 21%|██        | 21/100 [02:27<09:14,  7.02s/trial, best loss: -0.5803161714969923]\r 22%|██▏       | 22/100 [02:34<09:05,  6.99s/trial, best loss: -0.5803161714969923]\r 23%|██▎       | 23/100 [02:41<09:00,  7.02s/trial, best loss: -0.5803161714969923]\r 24%|██▍       | 24/100 [02:48<08:49,  6.97s/trial, best loss: -0.5803161714969923]\r 25%|██▌       | 25/100 [02:55<08:41,  6.96s/trial, best loss: -0.5803492686280314]\r 26%|██▌       | 26/100 [03:02<08:35,  6.97s/trial, best loss: -0.5803492686280314]\r 27%|██▋       | 27/100 [03:09<08:32,  7.02s/trial, best loss: -0.5803492686280314]\r 28%|██▊       | 28/100 [03:16<08:23,  6.99s/trial, best loss: -0.5805163075416316]\r 29%|██▉       | 29/100 [03:23<08:17,  7.00s/trial, best loss: -0.5805163075416316]\r 30%|███       | 30/100 [03:30<08:13,  7.04s/trial, best loss: -0.5805163075416316]\r 31%|███       | 31/100 [03:37<08:06,  7.06s/trial, best loss: -0.5805163075416316]\r 32%|███▏      | 32/100 [03:44<08:02,  7.10s/trial, best loss: -0.5805163075416316]\r 33%|███▎      | 33/100 [03:52<08:11,  7.33s/trial, best loss: -0.5805163075416316]\r 34%|███▍      | 34/100 [03:59<07:56,  7.23s/trial, best loss: -0.5805163075416316]\r 35%|███▌      | 35/100 [04:06<07:45,  7.16s/trial, best loss: -0.5805163075416316]\r 36%|███▌      | 36/100 [04:13<07:32,  7.07s/trial, best loss: -0.5805163075416316]\r 37%|███▋      | 37/100 [04:20<07:26,  7.08s/trial, best loss: -0.5805163075416316]\r 38%|███▊      | 38/100 [04:27<07:20,  7.10s/trial, best loss: -0.5805163075416316]\r 39%|███▉      | 39/100 [04:34<07:07,  7.01s/trial, best loss: -0.5805163075416316]\r 40%|████      | 40/100 [04:41<07:03,  7.06s/trial, best loss: -0.5805163075416316]\r 41%|████      | 41/100 [04:48<06:54,  7.02s/trial, best loss: -0.5805163075416316]\r 42%|████▏     | 42/100 [04:55<06:48,  7.05s/trial, best loss: -0.5805163075416316]\r 43%|████▎     | 43/100 [05:02<06:40,  7.02s/trial, best loss: -0.5805163075416316]\r 44%|████▍     | 44/100 [05:09<06:33,  7.02s/trial, best loss: -0.5805163075416316]\r 45%|████▌     | 45/100 [05:17<06:27,  7.05s/trial, best loss: -0.5805163075416316]\r 46%|████▌     | 46/100 [05:23<06:17,  7.00s/trial, best loss: -0.5805163075416316]\r 47%|████▋     | 47/100 [05:30<06:12,  7.02s/trial, best loss: -0.5805163075416316]\r 48%|████▊     | 48/100 [05:37<06:03,  6.99s/trial, best loss: -0.5805163075416316]\r 49%|████▉     | 49/100 [05:44<05:57,  7.01s/trial, best loss: -0.5805163075416316]\r 50%|█████     | 50/100 [05:51<05:50,  7.02s/trial, best loss: -0.5805163075416316]\r 51%|█████     | 51/100 [05:59<05:46,  7.07s/trial, best loss: -0.5805163075416316]\r 52%|█████▏    | 52/100 [06:06<05:41,  7.11s/trial, best loss: -0.5805163075416316]\r 53%|█████▎    | 53/100 [06:13<05:34,  7.13s/trial, best loss: -0.5805163075416316]\r 54%|█████▍    | 54/100 [06:20<05:27,  7.12s/trial, best loss: -0.5805163075416316]\r 55%|█████▌    | 55/100 [06:27<05:21,  7.13s/trial, best loss: -0.5805163075416316]\r 56%|█████▌    | 56/100 [06:34<05:13,  7.12s/trial, best loss: -0.5805163075416316]\r 57%|█████▋    | 57/100 [06:42<05:06,  7.13s/trial, best loss: -0.5805163075416316]\r 58%|█████▊    | 58/100 [06:49<04:58,  7.10s/trial, best loss: -0.5805163075416316]\r 59%|█████▉    | 59/100 [06:56<04:51,  7.11s/trial, best loss: -0.5805163075416316]\r 60%|██████    | 60/100 [07:03<04:45,  7.13s/trial, best loss: -0.5805163075416316]\r 61%|██████    | 61/100 [07:10<04:38,  7.15s/trial, best loss: -0.5805163075416316]\r 62%|██████▏   | 62/100 [07:17<04:31,  7.14s/trial, best loss: -0.5805163075416316]\r 63%|██████▎   | 63/100 [07:24<04:22,  7.08s/trial, best loss: -0.5805163075416316]\r 64%|██████▍   | 64/100 [07:31<04:14,  7.06s/trial, best loss: -0.5805163075416316]\r 65%|██████▌   | 65/100 [07:38<04:07,  7.07s/trial, best loss: -0.5805163075416316]\r 66%|██████▌   | 66/100 [07:46<04:05,  7.22s/trial, best loss: -0.5805163075416316]\r 67%|██████▋   | 67/100 [07:53<03:55,  7.15s/trial, best loss: -0.5805163075416316]\r 68%|██████▊   | 68/100 [08:00<03:47,  7.11s/trial, best loss: -0.5805163075416316]\r 69%|██████▉   | 69/100 [08:07<03:40,  7.11s/trial, best loss: -0.5805163075416316]\r 70%|███████   | 70/100 [08:14<03:31,  7.05s/trial, best loss: -0.5805163075416316]\r 71%|███████   | 71/100 [08:21<03:24,  7.04s/trial, best loss: -0.5805163075416316]\r 72%|███████▏  | 72/100 [08:28<03:17,  7.05s/trial, best loss: -0.5805163075416316]\r 73%|███████▎  | 73/100 [08:35<03:10,  7.07s/trial, best loss: -0.5805163075416316]\r 74%|███████▍  | 74/100 [08:42<03:03,  7.05s/trial, best loss: -0.5805163075416316]\r 75%|███████▌  | 75/100 [08:49<02:56,  7.06s/trial, best loss: -0.5805163075416316]\r 76%|███████▌  | 76/100 [08:56<02:50,  7.12s/trial, best loss: -0.5805163075416316]\r 77%|███████▋  | 77/100 [09:04<02:43,  7.12s/trial, best loss: -0.5805163075416316]\r 78%|███████▊  | 78/100 [09:11<02:42,  7.37s/trial, best loss: -0.5805163075416316]\r 79%|███████▉  | 79/100 [09:19<02:34,  7.37s/trial, best loss: -0.5805163075416316]\r 80%|████████  | 80/100 [09:26<02:25,  7.29s/trial, best loss: -0.5805163075416316]\r 81%|████████  | 81/100 [09:33<02:17,  7.21s/trial, best loss: -0.5805163075416316]\r 82%|████████▏ | 82/100 [09:40<02:08,  7.13s/trial, best loss: -0.5805163075416316]\r 83%|████████▎ | 83/100 [09:47<02:01,  7.14s/trial, best loss: -0.5805163075416316]\r 84%|████████▍ | 84/100 [09:54<01:53,  7.10s/trial, best loss: -0.5805163075416316]\r 85%|████████▌ | 85/100 [10:01<01:46,  7.11s/trial, best loss: -0.5805163075416316]\r 86%|████████▌ | 86/100 [10:08<01:39,  7.10s/trial, best loss: -0.5805163075416316]\r 87%|████████▋ | 87/100 [10:15<01:31,  7.06s/trial, best loss: -0.5805163075416316]\r 88%|████████▊ | 88/100 [10:22<01:24,  7.04s/trial, best loss: -0.5805163075416316]\r 89%|████████▉ | 89/100 [10:29<01:17,  7.02s/trial, best loss: -0.5805163075416316]\r 90%|█████████ | 90/100 [10:36<01:09,  6.99s/trial, best loss: -0.5805163075416316]\r 91%|█████████ | 91/100 [10:43<01:02,  7.00s/trial, best loss: -0.5805163075416316]\r 92%|█████████▏| 92/100 [10:50<00:56,  7.08s/trial, best loss: -0.5805163075416316]\r 93%|█████████▎| 93/100 [10:58<00:49,  7.09s/trial, best loss: -0.5805163075416316]\r 94%|█████████▍| 94/100 [11:05<00:42,  7.07s/trial, best loss: -0.5805163075416316]\r 95%|█████████▌| 95/100 [11:12<00:35,  7.07s/trial, best loss: -0.5805163075416316]\r 96%|█████████▌| 96/100 [11:19<00:28,  7.06s/trial, best loss: -0.5805163075416316]\r 97%|█████████▋| 97/100 [11:26<00:21,  7.04s/trial, best loss: -0.5805163075416316]\r 98%|█████████▊| 98/100 [11:33<00:13,  6.99s/trial, best loss: -0.5805163075416316]\r 99%|█████████▉| 99/100 [11:40<00:07,  7.06s/trial, best loss: -0.5805163075416316]\r100%|██████████| 100/100 [11:47<00:00,  7.05s/trial, best loss: -0.5805163075416316]\r100%|██████████| 100/100 [11:47<00:00,  7.07s/trial, best loss: -0.5805163075416316]\n",
      "              precision    recall  f1-score   support\n",
      "\n",
      "           0       0.58      0.93      0.72      9341\n",
      "           1       0.86      0.41      0.55     10390\n",
      "\n",
      "    accuracy                           0.65     19731\n",
      "   macro avg       0.72      0.67      0.63     19731\n",
      "weighted avg       0.73      0.65      0.63     19731\n",
      "\n"
     ]
    }
   ],
   "source": [
    "xgb_pipe = Pipeline(\n",
    "  [\n",
    "      ('feat_trans', feat_transformer),\n",
    "      ('over', SMOTE()),\n",
    "      ('xgb', xgb.XGBClassifier())\n",
    "]\n",
    ")\n",
    "\n",
    "xgb_opt_space = {'xgb__max_depth':  hp.choice('xgb__max_depth', np.arange(1, 14, dtype=int)),\n",
    "                'xgb__gamma': hp.uniform ('xgb__gamma', 1,9),\n",
    "                'xgb__reg_alpha' : hp.quniform('xgb__reg_alpha', 40,180,1),\n",
    "                'xgb__reg_lambda' : hp.uniform('xgb__reg_lambda', 0,1),\n",
    "                'xgb__colsample_bytree' : hp.uniform('xgb__colsample_bytree', 0.5,1),\n",
    "                'xgb__min_child_weight' : hp.quniform('xgb__min_child_weight', 0, 10, 1),\n",
    "                'xgb__n_estimators': 180}\n",
    "\n",
    "best_hypers = optimize_hyperparameters(xgb_opt_space, clone(xgb_pipe), X_train, y_train)\n",
    "model = clone(xgb_pipe).set_params(**best_hypers).fit(X_train, y_train)\n",
    "y_pred = cross_val_predict(clone(xgb_pipe).set_params(**best_hypers), X_test, y_test, cv=3)\n",
    "y_pred_prob = cross_val_predict(clone(xgb_pipe).set_params(**best_hypers), X_test, y_test, cv=3, method='predict_proba')\n",
    "\n",
    "print(classification_report(y_test, y_pred))"
   ]
  }
 ],
 "metadata": {
  "application/vnd.databricks.v1+notebook": {
   "computePreferences": null,
   "dashboards": [],
   "environmentMetadata": {
    "base_environment": "",
    "client": "1"
   },
   "language": "python",
   "notebookMetadata": {
    "pythonIndentUnit": 4
   },
   "notebookName": "2_modeling",
   "widgets": {}
  },
  "language_info": {
   "name": "python"
  }
 },
 "nbformat": 4,
 "nbformat_minor": 0
}
