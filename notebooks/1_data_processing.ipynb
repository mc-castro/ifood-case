{
 "cells": [
  {
   "cell_type": "markdown",
   "metadata": {
    "application/vnd.databricks.v1+cell": {
     "cellMetadata": {
      "byteLimit": 2048000,
      "rowLimit": 10000
     },
     "inputWidgets": {},
     "nuid": "83ad80fd-43b9-4093-8498-6f38a2705a48",
     "showTitle": false,
     "tableResultSettingsMap": {},
     "title": ""
    }
   },
   "source": [
    "## Imports"
   ]
  },
  {
   "cell_type": "code",
   "execution_count": 0,
   "metadata": {
    "application/vnd.databricks.v1+cell": {
     "cellMetadata": {
      "byteLimit": 2048000,
      "rowLimit": 10000
     },
     "inputWidgets": {},
     "nuid": "6b93c3a8-1c67-4e73-be66-3f6467dcc1b6",
     "showTitle": false,
     "tableResultSettingsMap": {},
     "title": ""
    }
   },
   "outputs": [],
   "source": [
    "from pyspark import SparkConf\n",
    "from pyspark.sql import SparkSession\n",
    "from pyspark.sql import functions as F\n",
    "from pyspark.sql.types import IntegerType, StringType, DateType, DoubleType"
   ]
  },
  {
   "cell_type": "code",
   "execution_count": 0,
   "metadata": {
    "application/vnd.databricks.v1+cell": {
     "cellMetadata": {
      "byteLimit": 2048000,
      "rowLimit": 10000
     },
     "inputWidgets": {},
     "nuid": "34d71dcd-5c0c-4b07-80fa-6a62a0c144e0",
     "showTitle": false,
     "tableResultSettingsMap": {},
     "title": ""
    }
   },
   "outputs": [],
   "source": [
    "spark = SparkSession.builder.appName(\"ifood_case\").getOrCreate()"
   ]
  },
  {
   "cell_type": "code",
   "execution_count": 0,
   "metadata": {
    "application/vnd.databricks.v1+cell": {
     "cellMetadata": {
      "byteLimit": 2048000,
      "rowLimit": 10000
     },
     "inputWidgets": {},
     "nuid": "9150c475-2833-4929-8448-87f036564f0b",
     "showTitle": false,
     "tableResultSettingsMap": {},
     "title": ""
    }
   },
   "outputs": [],
   "source": [
    "path_offers = 'dbfs:/FileStore/ifood_case/data/raw/offers.json'\n",
    "path_profile = 'dbfs:/FileStore/ifood_case/data/raw/profile.json'\n",
    "path_transactions = 'dbfs:/FileStore/ifood_case/data/raw/transactions.json'"
   ]
  },
  {
   "cell_type": "markdown",
   "metadata": {
    "application/vnd.databricks.v1+cell": {
     "cellMetadata": {
      "byteLimit": 2048000,
      "rowLimit": 10000
     },
     "inputWidgets": {},
     "nuid": "4d7e1ac8-31a2-4b79-ad62-ca5af050f1d0",
     "showTitle": false,
     "tableResultSettingsMap": {},
     "title": ""
    }
   },
   "source": [
    "## Extracts"
   ]
  },
  {
   "cell_type": "code",
   "execution_count": 0,
   "metadata": {
    "application/vnd.databricks.v1+cell": {
     "cellMetadata": {
      "byteLimit": 2048000,
      "rowLimit": 10000
     },
     "inputWidgets": {},
     "nuid": "5fe25954-edbb-4a76-b881-a6f6b7838880",
     "showTitle": true,
     "tableResultSettingsMap": {},
     "title": "Extract: Offers"
    }
   },
   "outputs": [],
   "source": [
    "df_offers = spark.read.json(path_offers)"
   ]
  },
  {
   "cell_type": "code",
   "execution_count": 0,
   "metadata": {
    "application/vnd.databricks.v1+cell": {
     "cellMetadata": {
      "byteLimit": 2048000,
      "rowLimit": 10000
     },
     "inputWidgets": {},
     "nuid": "64755d28-f638-40b6-b09e-0567b8b35255",
     "showTitle": true,
     "tableResultSettingsMap": {},
     "title": "Extract: Profile"
    }
   },
   "outputs": [],
   "source": [
    "df_profile = spark.read.json(path_profile)"
   ]
  },
  {
   "cell_type": "code",
   "execution_count": 0,
   "metadata": {
    "application/vnd.databricks.v1+cell": {
     "cellMetadata": {
      "byteLimit": 2048000,
      "rowLimit": 10000
     },
     "inputWidgets": {},
     "nuid": "c7c6bc35-1b14-4001-bc80-0c08a2b8e34d",
     "showTitle": true,
     "tableResultSettingsMap": {},
     "title": "Extract: Transactions"
    }
   },
   "outputs": [],
   "source": [
    "df_transactions = spark.read.json(path_transactions)"
   ]
  },
  {
   "cell_type": "markdown",
   "metadata": {
    "application/vnd.databricks.v1+cell": {
     "cellMetadata": {
      "byteLimit": 2048000,
      "rowLimit": 10000
     },
     "inputWidgets": {},
     "nuid": "08e3ea87-a0ea-41c2-92de-ab8898bd8c00",
     "showTitle": false,
     "tableResultSettingsMap": {},
     "title": ""
    }
   },
   "source": [
    "## Transform"
   ]
  },
  {
   "cell_type": "code",
   "execution_count": 0,
   "metadata": {
    "application/vnd.databricks.v1+cell": {
     "cellMetadata": {
      "byteLimit": 2048000,
      "rowLimit": 10000
     },
     "inputWidgets": {},
     "nuid": "fc891e60-3e04-4f0d-9ae7-8bda084e6afc",
     "showTitle": true,
     "tableResultSettingsMap": {},
     "title": "Transform: Offers"
    }
   },
   "outputs": [],
   "source": [
    "df_offers_transformed = (\n",
    "    df_offers\n",
    "    .withColumn('offer_id', F.col('id').cast(StringType()))\n",
    "    .select('offer_id', 'offer_type', 'min_value', 'duration', 'discount_value', 'channels')\n",
    "    .dropDuplicates()\n",
    ")"
   ]
  },
  {
   "cell_type": "code",
   "execution_count": 0,
   "metadata": {
    "application/vnd.databricks.v1+cell": {
     "cellMetadata": {
      "byteLimit": 2048000,
      "rowLimit": 10000
     },
     "inputWidgets": {},
     "nuid": "d83bbb89-1f98-4382-a543-727b454b22e4",
     "showTitle": true,
     "tableResultSettingsMap": {},
     "title": "Transform: Profile"
    }
   },
   "outputs": [],
   "source": [
    "df_profile_transformed = (\n",
    "    df_profile\n",
    "    .withColumn('account_id', F.col('id').cast(StringType()))\n",
    "    .withColumn('date_client_was_registered', F.date_format(F.to_date(F.col('registered_on'), 'yyyyMMdd'), 'yyyy-MM-dd').cast(DateType()))\n",
    "    .withColumn('age_at_registration', F.col('age').cast(IntegerType()))\n",
    "    .filter(F.col('age_at_registration') <= 100)\n",
    "    .withColumn('is_male', F.when(F.col('gender') == 'M', 1).otherwise(0))\n",
    "    .withColumn('is_female', F.when(F.col('gender') == 'F', 1).otherwise(0))\n",
    "    .withColumn('is_other', F.when(F.col('gender') == 'O', 1).otherwise(0))\n",
    "    .withColumn('customer_tenure', F.datediff(F.date_format(F.current_date(), 'yyyy-MM-dd'), F.col('date_client_was_registered')))\n",
    "    .select('account_id', 'customer_tenure', 'age_at_registration', 'is_male', 'is_female', 'is_other', 'credit_card_limit')\n",
    "    .dropDuplicates(['account_id'])\n",
    ")"
   ]
  },
  {
   "cell_type": "code",
   "execution_count": 0,
   "metadata": {
    "application/vnd.databricks.v1+cell": {
     "cellMetadata": {
      "byteLimit": 2048000,
      "rowLimit": 10000
     },
     "inputWidgets": {},
     "nuid": "2f508fe3-dcf3-4f0f-9943-7fb8c2a28dc3",
     "showTitle": true,
     "tableResultSettingsMap": {},
     "title": "Transform: Transactions"
    }
   },
   "outputs": [],
   "source": [
    "df_transactions_transformed = (\n",
    "    df_transactions\n",
    "    .withColumn('account_id', F.col('account_id').cast(StringType()))\n",
    "    .withColumn('amount', F.col('value.amount'))\n",
    "    .withColumn('offer id', F.col('value.offer id'))\n",
    "    .withColumn('offer_id', F.col('value.offer_id'))\n",
    "    .withColumn('offer_id', F.coalesce('offer_id', 'offer id'))\n",
    "    .withColumn('reward', F.col('value.reward'))\n",
    "    .select('account_id', 'offer_id', 'event', 'time_since_test_start', 'amount', 'reward')\n",
    "    .dropDuplicates()\n",
    ")"
   ]
  },
  {
   "cell_type": "code",
   "execution_count": 0,
   "metadata": {
    "application/vnd.databricks.v1+cell": {
     "cellMetadata": {
      "byteLimit": 2048000,
      "rowLimit": 10000
     },
     "inputWidgets": {},
     "nuid": "475e0346-bc84-4020-9dc6-4031815e4a9b",
     "showTitle": true,
     "tableResultSettingsMap": {},
     "title": "Transform: Separate transactions from offers"
    }
   },
   "outputs": [],
   "source": [
    "df_offers_transactions = (\n",
    "    df_transactions_transformed\n",
    "    .join(df_offers_transformed, 'offer_id', 'left')\n",
    ")\n",
    "\n",
    "df_customers_transactions = (\n",
    "    df_offers_transactions\n",
    "    .filter(F.col('event') == 'transaction')\n",
    "    .drop('offer_id', 'reward', 'offer_type', 'min_value', 'duration', 'discount_value', 'channels')\n",
    ")\n",
    "\n",
    "df_customers_offers = (\n",
    "    df_offers_transactions\n",
    "    .filter(F.col('event') != 'transaction')\n",
    ")\n",
    "\n",
    "offer_completed = (F.col('event') == 'offer completed') \n",
    "information_viewed = ((F.col('event') == 'offer viewed') & (F.col('offer_type') == 'informational'))\n",
    "df_customers_offers_informations_completed = (\n",
    "    df_customers_offers\n",
    "    .filter(offer_completed | information_viewed)\n",
    "    .drop('amount')\n",
    ")"
   ]
  },
  {
   "cell_type": "code",
   "execution_count": 0,
   "metadata": {
    "application/vnd.databricks.v1+cell": {
     "cellMetadata": {
      "byteLimit": 2048000,
      "rowLimit": 10000
     },
     "inputWidgets": {},
     "nuid": "ae71bbcf-9a46-4de5-a03a-6c52c9ac53de",
     "showTitle": true,
     "tableResultSettingsMap": {},
     "title": "Transform: Consolidate transactions"
    }
   },
   "outputs": [],
   "source": [
    "df_customers_transactions_consolidated = (\n",
    "    df_customers_transactions.alias('d')\n",
    "    .join(df_customers_offers_informations_completed.alias('o'), on=[\n",
    "        df_customers_transactions.account_id == df_customers_offers_informations_completed.account_id,\n",
    "        df_customers_transactions.time_since_test_start == df_customers_offers_informations_completed.time_since_test_start], how='left').select('d.*', 'o.offer_id', 'o.reward', 'o.offer_type', 'o.min_value', 'o.duration', 'o.discount_value', 'o.channels')\n",
    "    .withColumn('event', F.when((F.col('offer_id').isNotNull() & (F.col('offer_type') != 'informational')), 'transaction with offer')\n",
    "                          .when(F.col('offer_type') == 'informational', 'transaction with information')\n",
    "                          .otherwise(F.col('event')))\n",
    ")\n",
    "\n",
    "df_customers_others_offers = df_customers_offers.join(df_customers_transactions_consolidated.select('account_id', 'time_since_test_start', 'offer_id'), ['account_id', 'time_since_test_start', 'offer_id'], 'left_anti')\n",
    "\n",
    "df_customers_transactions_consolidated = (\n",
    "    df_customers_transactions_consolidated\n",
    "    .unionByName(df_customers_others_offers, allowMissingColumns=False)\n",
    "    .withColumn('split', F.when(F.col('time_since_test_start') <= 21, 'train')\n",
    "                          .when((F.col('time_since_test_start') > 21) & (F.col('time_since_test_start') <= 23.5), 'test')\n",
    "                          .otherwise('validation'))\n",
    ")"
   ]
  },
  {
   "cell_type": "code",
   "execution_count": 0,
   "metadata": {
    "application/vnd.databricks.v1+cell": {
     "cellMetadata": {
      "byteLimit": 2048000,
      "rowLimit": 10000
     },
     "inputWidgets": {},
     "nuid": "88ede295-c05a-4c1e-824f-9f7831042579",
     "showTitle": true,
     "tableResultSettingsMap": {},
     "title": "Transform: Create customers transactions metrics"
    }
   },
   "outputs": [],
   "source": [
    "df_customers_transactions_metrics = (\n",
    "    df_customers_transactions_consolidated\n",
    "    .groupBy('account_id', 'split').agg(\n",
    "        F.count(F.when(F.col('event').contains('transaction'), F.col('event'))).alias('freq_shopping'),\n",
    "        F.count(F.when((F.col('event').contains('transaction')) & (F.col('offer_id').isNull()), F.col('event'))).alias('freq_shopping_without_offer'),\n",
    "        F.avg(F.when(F.col('event').contains('transaction'), F.col('amount'))).alias('avg_ticket'),\n",
    "        F.stddev(F.when(F.col('event').contains('transaction'), F.col('amount'))).alias('variability_ticket'),\n",
    "\n",
    "        F.count(F.when(F.col('offer_id').isNotNull(), F.col('offer_id'))).alias('total_offers_received'),\n",
    "        F.count(F.when((F.col('offer_id').isNotNull()) & (F.col('event').contains('transaction')), F.col('offer_id'))).alias('total_offers_accepted'),\n",
    "\n",
    "        F.count(F.when((F.col('offer_type') == 'bogo') & (F.col('event').contains('transaction')), F.col('offer_id'))).alias('total_bogo_offers_accepted'),\n",
    "        F.count(F.when((F.col('offer_type') == 'discount') & (F.col('event').contains('transaction')), F.col('offer_id'))).alias('total_discount_offers_accepted'),\n",
    "        F.count(F.when((F.col('offer_type') == 'informational') & (F.col('event').contains('transaction')), F.col('offer_id'))).alias('total_informational_offers_accepted'),\n",
    "    )\n",
    "    .withColumn('rate_shopping_without_offer', F.col('freq_shopping_without_offer') / F.col('freq_shopping'))\n",
    "    .withColumn('offer_acceptance_rate', F.col('total_offers_accepted') / F.col('total_offers_received'))\n",
    "    .withColumn('bogo_offer_acceptance_rate', F.col('total_bogo_offers_accepted') / F.col('total_offers_received'))\n",
    "    .withColumn('discount_offer_acceptance_rate', F.col('total_discount_offers_accepted') / F.col('total_offers_received'))\n",
    "    .withColumn('informational_offer_acceptance_rate', F.col('total_informational_offers_accepted') / F.col('total_offers_received'))\n",
    "    .filter(F.col('rate_shopping_without_offer') <= 0.7) # remove clientes with high rate_shopping_without_offer\n",
    "    .select('account_id', 'avg_ticket', 'variability_ticket', 'offer_acceptance_rate', 'bogo_offer_acceptance_rate', 'discount_offer_acceptance_rate', 'informational_offer_acceptance_rate', 'split')\n",
    ")"
   ]
  },
  {
   "cell_type": "code",
   "execution_count": 0,
   "metadata": {
    "application/vnd.databricks.v1+cell": {
     "cellMetadata": {
      "byteLimit": 2048000,
      "rowLimit": 10000
     },
     "inputWidgets": {},
     "nuid": "bf3c5f39-6387-4388-a37f-e265ae7b722b",
     "showTitle": true,
     "tableResultSettingsMap": {},
     "title": "Transform: Join with profile and create others metrics"
    }
   },
   "outputs": [],
   "source": [
    "df_customers_transactions_consolidated_metrics = (\n",
    "    df_customers_transactions_consolidated\n",
    "    .join(df_customers_transactions_metrics, ['account_id', 'split'], 'inner')\n",
    "    .join(df_profile_transformed, 'account_id', 'inner')\n",
    "    .filter(F.col('offer_id').isNotNull())\n",
    "    .fillna({'reward': 0, 'amount': 0})\n",
    "    .withColumn('offer_accepted', F.when(F.col('event').contains('transaction with'), 1).otherwise(0))\n",
    "    .withColumn('is_bogo_offer', F.when(F.col('offer_type') == 'bogo', 1).otherwise(0))\n",
    "    .withColumn('is_discount_offer', F.when(F.col('offer_type') == 'discount', 1).otherwise(0))\n",
    "    .withColumn('is_informational_offer', F.when(F.col('offer_type') == 'informational', 1).otherwise(0))\n",
    "    .withColumn('has_web_notification', F.when(F.array_contains('channels', 'web'), 1).otherwise(0))\n",
    "    .withColumn('has_mobile_notification', F.when(F.array_contains('channels', 'mobile'), 1).otherwise(0))\n",
    "    .withColumn('has_social_notification', F.when(F.array_contains('channels', 'social'), 1).otherwise(0))\n",
    "    .drop('event', 'channels', 'offer_type', 'reward', 'time_since_test_start')\n",
    ")"
   ]
  },
  {
   "cell_type": "code",
   "execution_count": 0,
   "metadata": {
    "application/vnd.databricks.v1+cell": {
     "cellMetadata": {
      "byteLimit": 2048000,
      "rowLimit": 10000
     },
     "inputWidgets": {},
     "nuid": "62ea659b-92c6-4080-a3eb-950711ec733b",
     "showTitle": false,
     "tableResultSettingsMap": {},
     "title": ""
    }
   },
   "outputs": [
    {
     "output_type": "display_data",
     "data": {
      "text/html": [
       "<style scoped>\n",
       "  .table-result-container {\n",
       "    max-height: 300px;\n",
       "    overflow: auto;\n",
       "  }\n",
       "  table, th, td {\n",
       "    border: 1px solid black;\n",
       "    border-collapse: collapse;\n",
       "  }\n",
       "  th, td {\n",
       "    padding: 5px;\n",
       "  }\n",
       "  th {\n",
       "    text-align: left;\n",
       "  }\n",
       "</style><div class='table-result-container'><table class='table-result'><thead style='background-color: white'><tr><th>account_id</th><th>split</th><th>amount</th><th>offer_id</th><th>min_value</th><th>duration</th><th>discount_value</th><th>avg_ticket</th><th>variability_ticket</th><th>offer_acceptance_rate</th><th>bogo_offer_acceptance_rate</th><th>discount_offer_acceptance_rate</th><th>informational_offer_acceptance_rate</th><th>customer_tenure</th><th>age_at_registration</th><th>is_male</th><th>is_female</th><th>is_other</th><th>credit_card_limit</th><th>offer_accepted</th><th>is_bogo_offer</th><th>is_discount_offer</th><th>is_informational_offer</th><th>has_web_notification</th><th>has_mobile_notification</th><th>has_social_notification</th></tr></thead><tbody><tr><td>5fc96150a4994e3c982e723d06d35e8b</td><td>train</td><td>21.04</td><td>9b98b8c7a33c4b65b9aebfe6a799e6d9</td><td>5</td><td>7.0</td><td>5</td><td>24.08</td><td>4.299209229614211</td><td>0.2857142857142857</td><td>0.14285714285714285</td><td>0.14285714285714285</td><td>0.0</td><td>3099</td><td>72</td><td>0</td><td>1</td><td>0</td><td>81000.0</td><td>1</td><td>1</td><td>0</td><td>0</td><td>1</td><td>1</td><td>0</td></tr><tr><td>baa162e4861e459cb33c45fb3b40bfc2</td><td>train</td><td>31.81</td><td>ae264e3637204a6fb9bb56bc8210ddfd</td><td>10</td><td>7.0</td><td>10</td><td>28.9975</td><td>7.508974075509027</td><td>0.2222222222222222</td><td>0.2222222222222222</td><td>0.0</td><td>0.0</td><td>2563</td><td>50</td><td>0</td><td>1</td><td>0</td><td>91000.0</td><td>1</td><td>1</td><td>0</td><td>0</td><td>0</td><td>1</td><td>1</td></tr><tr><td>6c6ea548f9884790846f4917e494c65a</td><td>train</td><td>11.62</td><td>fafdcd668e3743c1bb461111dcafc2a4</td><td>10</td><td>10.0</td><td>2</td><td>18.169999999999998</td><td>8.925478138452865</td><td>0.2</td><td>0.0</td><td>0.2</td><td>0.0</td><td>2686</td><td>47</td><td>0</td><td>1</td><td>0</td><td>66000.0</td><td>1</td><td>0</td><td>1</td><td>0</td><td>1</td><td>1</td><td>1</td></tr><tr><td>a55acf4fede04caba13806d9ac1eb405</td><td>validation</td><td>17.94</td><td>2906b810c7d4411798c6938adc9daaa5</td><td>10</td><td>7.0</td><td>2</td><td>15.285</td><td>3.7547370081005678</td><td>0.3333333333333333</td><td>0.0</td><td>0.3333333333333333</td><td>0.0</td><td>2530</td><td>64</td><td>0</td><td>1</td><td>0</td><td>85000.0</td><td>1</td><td>0</td><td>1</td><td>0</td><td>1</td><td>1</td><td>0</td></tr><tr><td>df9111f3ee6e4031a6fb62e25b727c22</td><td>test</td><td>10.96</td><td>ae264e3637204a6fb9bb56bc8210ddfd</td><td>10</td><td>7.0</td><td>10</td><td>10.96</td><td>null</td><td>1.0</td><td>1.0</td><td>0.0</td><td>0.0</td><td>3112</td><td>73</td><td>0</td><td>1</td><td>0</td><td>57000.0</td><td>1</td><td>1</td><td>0</td><td>0</td><td>0</td><td>1</td><td>1</td></tr><tr><td>1ccdd48ea41247248269cb0c5805ca12</td><td>test</td><td>34.5</td><td>4d5c57ea9a6940dd891ad53e9dbe8da0</td><td>10</td><td>5.0</td><td>10</td><td>34.5</td><td>null</td><td>1.0</td><td>1.0</td><td>0.0</td><td>0.0</td><td>2642</td><td>83</td><td>0</td><td>1</td><td>0</td><td>99000.0</td><td>1</td><td>1</td><td>0</td><td>0</td><td>1</td><td>1</td><td>1</td></tr><tr><td>8cc0db430879405898d8390ca74ad13a</td><td>train</td><td>20.31</td><td>fafdcd668e3743c1bb461111dcafc2a4</td><td>10</td><td>10.0</td><td>2</td><td>19.9775</td><td>4.697560917266382</td><td>0.36363636363636365</td><td>0.09090909090909091</td><td>0.2727272727272727</td><td>0.0</td><td>3477</td><td>72</td><td>0</td><td>1</td><td>0</td><td>75000.0</td><td>1</td><td>0</td><td>1</td><td>0</td><td>1</td><td>1</td><td>1</td></tr><tr><td>dc4fde598436441ca540a5d79fbdbaac</td><td>train</td><td>14.55</td><td>0b1e1539f2cc45b7b9fa7c272da2e1d7</td><td>20</td><td>10.0</td><td>5</td><td>24.075</td><td>5.849635031350246</td><td>0.2727272727272727</td><td>0.09090909090909091</td><td>0.18181818181818182</td><td>0.0</td><td>2666</td><td>59</td><td>1</td><td>0</td><td>0</td><td>87000.0</td><td>1</td><td>0</td><td>1</td><td>0</td><td>1</td><td>0</td><td>0</td></tr><tr><td>28ae5599449d43288b3e0983080ad04c</td><td>train</td><td>16.9</td><td>ae264e3637204a6fb9bb56bc8210ddfd</td><td>10</td><td>7.0</td><td>10</td><td>10.790000000000001</td><td>5.251890664851617</td><td>0.3</td><td>0.2</td><td>0.1</td><td>0.0</td><td>2574</td><td>34</td><td>1</td><td>0</td><td>0</td><td>48000.0</td><td>1</td><td>1</td><td>0</td><td>0</td><td>0</td><td>1</td><td>1</td></tr><tr><td>153151dae7fd416588690a91ec81cbba</td><td>validation</td><td>25.51</td><td>2298d6c36e964ae4a3e7e9706d1fb8c2</td><td>7</td><td>7.0</td><td>3</td><td>21.61</td><td>5.515432893255071</td><td>0.3333333333333333</td><td>0.0</td><td>0.3333333333333333</td><td>0.0</td><td>2638</td><td>39</td><td>0</td><td>1</td><td>0</td><td>95000.0</td><td>1</td><td>0</td><td>1</td><td>0</td><td>1</td><td>1</td><td>1</td></tr><tr><td>1ee3e36220f5437fb0523779f9318b85</td><td>validation</td><td>17.96</td><td>3f207df678b143eea3cee63160fa8bed</td><td>0</td><td>4.0</td><td>0</td><td>17.96</td><td>0.0</td><td>0.6666666666666666</td><td>0.3333333333333333</td><td>0.0</td><td>0.3333333333333333</td><td>2583</td><td>62</td><td>1</td><td>0</td><td>0</td><td>90000.0</td><td>1</td><td>0</td><td>0</td><td>1</td><td>1</td><td>1</td><td>0</td></tr><tr><td>0a947767586e4587b06b8ca3efc3c8e7</td><td>validation</td><td>24.21</td><td>9b98b8c7a33c4b65b9aebfe6a799e6d9</td><td>5</td><td>7.0</td><td>5</td><td>24.21</td><td>0.0</td><td>1.0</td><td>1.0</td><td>0.0</td><td>0.0</td><td>2502</td><td>90</td><td>1</td><td>0</td><td>0</td><td>120000.0</td><td>1</td><td>1</td><td>0</td><td>0</td><td>1</td><td>1</td><td>0</td></tr><tr><td>685a085e74d0496a82def0e0962289ab</td><td>test</td><td>1.06</td><td>fafdcd668e3743c1bb461111dcafc2a4</td><td>10</td><td>10.0</td><td>2</td><td>1.1</td><td>0.0565685424949237</td><td>1.0</td><td>0.0</td><td>1.0</td><td>0.0</td><td>3233</td><td>79</td><td>1</td><td>0</td><td>0</td><td>33000.0</td><td>1</td><td>0</td><td>1</td><td>0</td><td>1</td><td>1</td><td>1</td></tr><tr><td>b1371c7361f440cbaed7b43a1ddce792</td><td>train</td><td>18.7</td><td>f19421c1d4aa40978ebb69ca19b0e20d</td><td>5</td><td>5.0</td><td>5</td><td>16.323333333333334</td><td>7.270209533890111</td><td>0.25</td><td>0.125</td><td>0.125</td><td>0.0</td><td>2956</td><td>49</td><td>0</td><td>1</td><td>0</td><td>57000.0</td><td>1</td><td>1</td><td>0</td><td>0</td><td>1</td><td>1</td><td>1</td></tr><tr><td>330cfed337f84788b32ebd5d4702a7b3</td><td>test</td><td>15.61</td><td>4d5c57ea9a6940dd891ad53e9dbe8da0</td><td>10</td><td>5.0</td><td>10</td><td>13.1175</td><td>2.908646592489365</td><td>1.0</td><td>0.5</td><td>0.5</td><td>0.0</td><td>2524</td><td>22</td><td>1</td><td>0</td><td>0</td><td>69000.0</td><td>1</td><td>1</td><td>0</td><td>0</td><td>1</td><td>1</td><td>1</td></tr></tbody></table></div>"
      ]
     },
     "metadata": {
      "application/vnd.databricks.v1+output": {
       "addedWidgets": {},
       "aggData": [],
       "aggError": "",
       "aggOverflow": false,
       "aggSchema": [],
       "aggSeriesLimitReached": false,
       "aggType": "",
       "arguments": {},
       "columnCustomDisplayInfos": {},
       "data": [
        [
         "5fc96150a4994e3c982e723d06d35e8b",
         "train",
         21.04,
         "9b98b8c7a33c4b65b9aebfe6a799e6d9",
         5,
         7.0,
         5,
         24.08,
         4.299209229614211,
         0.2857142857142857,
         0.14285714285714285,
         0.14285714285714285,
         0.0,
         3099,
         72,
         0,
         1,
         0,
         81000.0,
         1,
         1,
         0,
         0,
         1,
         1,
         0
        ],
        [
         "baa162e4861e459cb33c45fb3b40bfc2",
         "train",
         31.81,
         "ae264e3637204a6fb9bb56bc8210ddfd",
         10,
         7.0,
         10,
         28.9975,
         7.508974075509027,
         0.2222222222222222,
         0.2222222222222222,
         0.0,
         0.0,
         2563,
         50,
         0,
         1,
         0,
         91000.0,
         1,
         1,
         0,
         0,
         0,
         1,
         1
        ],
        [
         "6c6ea548f9884790846f4917e494c65a",
         "train",
         11.62,
         "fafdcd668e3743c1bb461111dcafc2a4",
         10,
         10.0,
         2,
         18.169999999999998,
         8.925478138452865,
         0.2,
         0.0,
         0.2,
         0.0,
         2686,
         47,
         0,
         1,
         0,
         66000.0,
         1,
         0,
         1,
         0,
         1,
         1,
         1
        ],
        [
         "a55acf4fede04caba13806d9ac1eb405",
         "validation",
         17.94,
         "2906b810c7d4411798c6938adc9daaa5",
         10,
         7.0,
         2,
         15.285,
         3.7547370081005678,
         0.3333333333333333,
         0.0,
         0.3333333333333333,
         0.0,
         2530,
         64,
         0,
         1,
         0,
         85000.0,
         1,
         0,
         1,
         0,
         1,
         1,
         0
        ],
        [
         "df9111f3ee6e4031a6fb62e25b727c22",
         "test",
         10.96,
         "ae264e3637204a6fb9bb56bc8210ddfd",
         10,
         7.0,
         10,
         10.96,
         null,
         1.0,
         1.0,
         0.0,
         0.0,
         3112,
         73,
         0,
         1,
         0,
         57000.0,
         1,
         1,
         0,
         0,
         0,
         1,
         1
        ],
        [
         "1ccdd48ea41247248269cb0c5805ca12",
         "test",
         34.5,
         "4d5c57ea9a6940dd891ad53e9dbe8da0",
         10,
         5.0,
         10,
         34.5,
         null,
         1.0,
         1.0,
         0.0,
         0.0,
         2642,
         83,
         0,
         1,
         0,
         99000.0,
         1,
         1,
         0,
         0,
         1,
         1,
         1
        ],
        [
         "8cc0db430879405898d8390ca74ad13a",
         "train",
         20.31,
         "fafdcd668e3743c1bb461111dcafc2a4",
         10,
         10.0,
         2,
         19.9775,
         4.697560917266382,
         0.36363636363636365,
         0.09090909090909091,
         0.2727272727272727,
         0.0,
         3477,
         72,
         0,
         1,
         0,
         75000.0,
         1,
         0,
         1,
         0,
         1,
         1,
         1
        ],
        [
         "dc4fde598436441ca540a5d79fbdbaac",
         "train",
         14.55,
         "0b1e1539f2cc45b7b9fa7c272da2e1d7",
         20,
         10.0,
         5,
         24.075,
         5.849635031350246,
         0.2727272727272727,
         0.09090909090909091,
         0.18181818181818182,
         0.0,
         2666,
         59,
         1,
         0,
         0,
         87000.0,
         1,
         0,
         1,
         0,
         1,
         0,
         0
        ],
        [
         "28ae5599449d43288b3e0983080ad04c",
         "train",
         16.9,
         "ae264e3637204a6fb9bb56bc8210ddfd",
         10,
         7.0,
         10,
         10.790000000000001,
         5.251890664851617,
         0.3,
         0.2,
         0.1,
         0.0,
         2574,
         34,
         1,
         0,
         0,
         48000.0,
         1,
         1,
         0,
         0,
         0,
         1,
         1
        ],
        [
         "153151dae7fd416588690a91ec81cbba",
         "validation",
         25.51,
         "2298d6c36e964ae4a3e7e9706d1fb8c2",
         7,
         7.0,
         3,
         21.61,
         5.515432893255071,
         0.3333333333333333,
         0.0,
         0.3333333333333333,
         0.0,
         2638,
         39,
         0,
         1,
         0,
         95000.0,
         1,
         0,
         1,
         0,
         1,
         1,
         1
        ],
        [
         "1ee3e36220f5437fb0523779f9318b85",
         "validation",
         17.96,
         "3f207df678b143eea3cee63160fa8bed",
         0,
         4.0,
         0,
         17.96,
         0.0,
         0.6666666666666666,
         0.3333333333333333,
         0.0,
         0.3333333333333333,
         2583,
         62,
         1,
         0,
         0,
         90000.0,
         1,
         0,
         0,
         1,
         1,
         1,
         0
        ],
        [
         "0a947767586e4587b06b8ca3efc3c8e7",
         "validation",
         24.21,
         "9b98b8c7a33c4b65b9aebfe6a799e6d9",
         5,
         7.0,
         5,
         24.21,
         0.0,
         1.0,
         1.0,
         0.0,
         0.0,
         2502,
         90,
         1,
         0,
         0,
         120000.0,
         1,
         1,
         0,
         0,
         1,
         1,
         0
        ],
        [
         "685a085e74d0496a82def0e0962289ab",
         "test",
         1.06,
         "fafdcd668e3743c1bb461111dcafc2a4",
         10,
         10.0,
         2,
         1.1,
         0.0565685424949237,
         1.0,
         0.0,
         1.0,
         0.0,
         3233,
         79,
         1,
         0,
         0,
         33000.0,
         1,
         0,
         1,
         0,
         1,
         1,
         1
        ],
        [
         "b1371c7361f440cbaed7b43a1ddce792",
         "train",
         18.7,
         "f19421c1d4aa40978ebb69ca19b0e20d",
         5,
         5.0,
         5,
         16.323333333333334,
         7.270209533890111,
         0.25,
         0.125,
         0.125,
         0.0,
         2956,
         49,
         0,
         1,
         0,
         57000.0,
         1,
         1,
         0,
         0,
         1,
         1,
         1
        ],
        [
         "330cfed337f84788b32ebd5d4702a7b3",
         "test",
         15.61,
         "4d5c57ea9a6940dd891ad53e9dbe8da0",
         10,
         5.0,
         10,
         13.1175,
         2.908646592489365,
         1.0,
         0.5,
         0.5,
         0.0,
         2524,
         22,
         1,
         0,
         0,
         69000.0,
         1,
         1,
         0,
         0,
         1,
         1,
         1
        ]
       ],
       "datasetInfos": [],
       "dbfsResultPath": null,
       "isJsonSchema": true,
       "metadata": {},
       "overflow": false,
       "plotOptions": {
        "customPlotOptions": {},
        "displayType": "table",
        "pivotAggregation": null,
        "pivotColumns": null,
        "xColumns": null,
        "yColumns": null
       },
       "removedWidgets": [],
       "schema": [
        {
         "metadata": "{}",
         "name": "account_id",
         "type": "\"string\""
        },
        {
         "metadata": "{}",
         "name": "split",
         "type": "\"string\""
        },
        {
         "metadata": "{}",
         "name": "amount",
         "type": "\"double\""
        },
        {
         "metadata": "{}",
         "name": "offer_id",
         "type": "\"string\""
        },
        {
         "metadata": "{}",
         "name": "min_value",
         "type": "\"long\""
        },
        {
         "metadata": "{}",
         "name": "duration",
         "type": "\"double\""
        },
        {
         "metadata": "{}",
         "name": "discount_value",
         "type": "\"long\""
        },
        {
         "metadata": "{}",
         "name": "avg_ticket",
         "type": "\"double\""
        },
        {
         "metadata": "{}",
         "name": "variability_ticket",
         "type": "\"double\""
        },
        {
         "metadata": "{}",
         "name": "offer_acceptance_rate",
         "type": "\"double\""
        },
        {
         "metadata": "{}",
         "name": "bogo_offer_acceptance_rate",
         "type": "\"double\""
        },
        {
         "metadata": "{}",
         "name": "discount_offer_acceptance_rate",
         "type": "\"double\""
        },
        {
         "metadata": "{}",
         "name": "informational_offer_acceptance_rate",
         "type": "\"double\""
        },
        {
         "metadata": "{}",
         "name": "customer_tenure",
         "type": "\"integer\""
        },
        {
         "metadata": "{}",
         "name": "age_at_registration",
         "type": "\"integer\""
        },
        {
         "metadata": "{}",
         "name": "is_male",
         "type": "\"integer\""
        },
        {
         "metadata": "{}",
         "name": "is_female",
         "type": "\"integer\""
        },
        {
         "metadata": "{}",
         "name": "is_other",
         "type": "\"integer\""
        },
        {
         "metadata": "{}",
         "name": "credit_card_limit",
         "type": "\"double\""
        },
        {
         "metadata": "{}",
         "name": "offer_accepted",
         "type": "\"integer\""
        },
        {
         "metadata": "{}",
         "name": "is_bogo_offer",
         "type": "\"integer\""
        },
        {
         "metadata": "{}",
         "name": "is_discount_offer",
         "type": "\"integer\""
        },
        {
         "metadata": "{}",
         "name": "is_informational_offer",
         "type": "\"integer\""
        },
        {
         "metadata": "{}",
         "name": "has_web_notification",
         "type": "\"integer\""
        },
        {
         "metadata": "{}",
         "name": "has_mobile_notification",
         "type": "\"integer\""
        },
        {
         "metadata": "{}",
         "name": "has_social_notification",
         "type": "\"integer\""
        }
       ],
       "type": "table"
      }
     },
     "output_type": "display_data"
    }
   ],
   "source": [
    "display(df_customers_transactions_consolidated_metrics.limit(15))"
   ]
  },
  {
   "cell_type": "code",
   "execution_count": 0,
   "metadata": {
    "application/vnd.databricks.v1+cell": {
     "cellMetadata": {
      "byteLimit": 2048000,
      "rowLimit": 10000
     },
     "inputWidgets": {},
     "nuid": "ef465bc6-7264-4992-a6c3-d3fcd294ce36",
     "showTitle": false,
     "tableResultSettingsMap": {},
     "title": ""
    }
   },
   "outputs": [
    {
     "output_type": "display_data",
     "data": {
      "text/html": [
       "<style scoped>\n",
       "  .table-result-container {\n",
       "    max-height: 300px;\n",
       "    overflow: auto;\n",
       "  }\n",
       "  table, th, td {\n",
       "    border: 1px solid black;\n",
       "    border-collapse: collapse;\n",
       "  }\n",
       "  th, td {\n",
       "    padding: 5px;\n",
       "  }\n",
       "  th {\n",
       "    text-align: left;\n",
       "  }\n",
       "</style><div class='table-result-container'><table class='table-result'><thead style='background-color: white'><tr><th>split</th><th>count</th></tr></thead><tbody><tr><td>train</td><td>50125</td></tr><tr><td>validation</td><td>13994</td></tr><tr><td>test</td><td>5737</td></tr></tbody></table></div>"
      ]
     },
     "metadata": {
      "application/vnd.databricks.v1+output": {
       "addedWidgets": {},
       "aggData": [],
       "aggError": "",
       "aggOverflow": false,
       "aggSchema": [],
       "aggSeriesLimitReached": false,
       "aggType": "",
       "arguments": {},
       "columnCustomDisplayInfos": {},
       "data": [
        [
         "train",
         50125
        ],
        [
         "validation",
         13994
        ],
        [
         "test",
         5737
        ]
       ],
       "datasetInfos": [],
       "dbfsResultPath": null,
       "isJsonSchema": true,
       "metadata": {},
       "overflow": false,
       "plotOptions": {
        "customPlotOptions": {},
        "displayType": "table",
        "pivotAggregation": null,
        "pivotColumns": null,
        "xColumns": null,
        "yColumns": null
       },
       "removedWidgets": [],
       "schema": [
        {
         "metadata": "{}",
         "name": "split",
         "type": "\"string\""
        },
        {
         "metadata": "{}",
         "name": "count",
         "type": "\"long\""
        }
       ],
       "type": "table"
      }
     },
     "output_type": "display_data"
    }
   ],
   "source": [
    "df_customers_transactions_consolidated_metrics.groupBy('split').count().display()"
   ]
  },
  {
   "cell_type": "markdown",
   "metadata": {
    "application/vnd.databricks.v1+cell": {
     "cellMetadata": {
      "byteLimit": 2048000,
      "rowLimit": 10000
     },
     "inputWidgets": {},
     "nuid": "260842a8-0235-425d-b2ad-66880efa4ece",
     "showTitle": false,
     "tableResultSettingsMap": {},
     "title": ""
    }
   },
   "source": [
    "## Load"
   ]
  },
  {
   "cell_type": "code",
   "execution_count": 0,
   "metadata": {
    "application/vnd.databricks.v1+cell": {
     "cellMetadata": {
      "byteLimit": 2048000,
      "rowLimit": 10000
     },
     "inputWidgets": {},
     "nuid": "339afe3e-c7a6-40b1-a8b5-a32d5e2b4fa9",
     "showTitle": false,
     "tableResultSettingsMap": {},
     "title": ""
    }
   },
   "outputs": [],
   "source": [
    "df_customers_transactions_consolidated_metrics.write.mode('overwrite').parquet('dbfs:/FileStore/ifood_case/data/processed/df_customers_offers.parquet')"
   ]
  }
 ],
 "metadata": {
  "application/vnd.databricks.v1+notebook": {
   "computePreferences": null,
   "dashboards": [],
   "environmentMetadata": {
    "base_environment": "",
    "client": "1"
   },
   "language": "python",
   "notebookMetadata": {
    "mostRecentlyExecutedCommandWithImplicitDF": {
     "commandId": -1,
     "dataframes": [
      "_sqldf"
     ]
    },
    "pythonIndentUnit": 4
   },
   "notebookName": "1_data_processing",
   "widgets": {}
  }
 },
 "nbformat": 4,
 "nbformat_minor": 0
}
